{
 "metadata": {
  "name": "using-screed"
 },
 "nbformat": 3,
 "nbformat_minor": 0,
 "worksheets": [
  {
   "cells": [
    {
     "cell_type": "code",
     "collapsed": false,
     "input": [
      "import screed"
     ],
     "language": "python",
     "metadata": {},
     "outputs": [],
     "prompt_number": 1
    },
    {
     "cell_type": "code",
     "collapsed": false,
     "input": [
      "filename = '../data/25k.fq.gz'\n",
      "\n",
      "n = 0\n",
      "for record in screed.open(filename):\n",
      "    n += 1\n",
      "    if n > 10:\n",
      "        break\n",
      "    print record.name\n",
      "    print record.sequence\n",
      "    print record.accuracy"
     ],
     "language": "python",
     "metadata": {},
     "outputs": [
      {
       "output_type": "stream",
       "stream": "stdout",
       "text": [
        "895:1:1:1246:14654/1\n",
        "CAGGCGCCCACCACCGTGCCCTCCAACCTGATGGT\n",
        "][aaX__aa[`ZUZ[NONNFNNNNNO_____^RQ_\n",
        "895:1:1:1248:9583/1\n",
        "ACTGGGCGTAGACGGTGTCCTCATCGGCACCAGC\n",
        "\\UJUWSSV[JQQWNP]]SZ]ZWU^]ZX][^TXR`\n",
        "895:1:1:1252:19493/1\n",
        "CCGGCGTGGTTGGTGAGGTCACTGAGCTTCATGTC\n",
        "OOOKONNNNN__`R]O[TGTRSY[IUZ]]]__X__\n",
        "895:1:1:1255:18861/1\n",
        "ACGACGAGAAGCTGATCTACCGCGCCGAGCGCATC\n",
        "bb_^^bb_XTbbbbbb_bab]KTITZQTZ]ZYT^^\n",
        "895:1:1:1264:15854/1\n",
        "CGTGATGATGTGCTTGCGGCCGGAGGGCCTGTTGCCCAGG\n",
        "````W__ZZ`R__ZSOJNNNQWSQZ\\^X\\W_______J__\n",
        "895:1:1:1265:2265/1\n",
        "TATAGCGTGAGGCGATGACGTTGCTGTCCTTGGCGCGGC\n",
        "`bbbbbbbbbbbbbUbbbbb]X_QXUQ[QWOPTTZ__X_\n",
        "895:1:1:1273:17782/1\n",
        "TCGAAAATCACGTGGGAGATGCACTATCACGCGGTCGGTGAGGAAGTGACCGACCACACCGAGCTCGC\n",
        "OOOOONNNOO^^X^`]TVa]WWLSSKNNONI]S[Q]SWXZX_\\\\^ZF___Y\\V]]_____]KTRV^X^\n",
        "895:1:1:1274:18571/1\n",
        "AGCAGGCGAACAGCACGCCGAACAATACTGTCTTCATGCCAAACTGCTGAAAGCCGAGCACAGCAGAAATGCTCCAGAG\n",
        "VMJPVUIPHRUaZRZ\\___XUZ[X[]]`]X]]]]]_______________XHXX]]S]]Z``X]`]VX]]_____ZZMa\n",
        "895:1:1:1276:16426/1\n",
        "GCAGGTATTGGTTTGCCTAACGTTGAAATTGCAGGATTAACG\n",
        "[[Z[[Z`\\`\\^[^`^U]ZZROFONOOQYPY]ZU]URQYQV``\n",
        "895:1:1:1283:17864/1\n",
        "ATTCGTCAACCCGCGGCTCGAGCTGCGCATCC\n",
        "`Q\\`[Z______`_\\Q`\\[MTYWTW_T_TTX`\n"
       ]
      }
     ],
     "prompt_number": 2
    },
    {
     "cell_type": "code",
     "collapsed": false,
     "input": [
      "import calc_gc\n",
      "\n",
      "gc_list = []\n",
      "for record in screed.open(filename):\n",
      "    seq = record.sequence\n",
      "    gc = calc_gc.calc_gc(seq)\n",
      "    gc_list.append(gc)"
     ],
     "language": "python",
     "metadata": {},
     "outputs": [],
     "prompt_number": 3
    },
    {
     "cell_type": "code",
     "collapsed": false,
     "input": [
      "hist(gc_list, bins=100, range=(0, 1))"
     ],
     "language": "python",
     "metadata": {},
     "outputs": [
      {
       "output_type": "pyout",
       "prompt_number": 4,
       "text": [
        "(array([   0,    0,    0,    0,    0,    0,    0,    0,    0,    0,    1,\n",
        "          0,    0,    1,    1,    2,    0,    1,    1,    1,    3,    0,\n",
        "          5,    1,    3,    2,    3,    4,   11,    7,   11,    9,   10,\n",
        "         17,   38,   32,   40,   57,   65,   38,   98,  111,  136,  168,\n",
        "        212,  252,  329,  361,  462,  336,  766,  651,  781,  787,  808,\n",
        "        909,  960,  972, 1049,  687, 1246,  969, 1124,  886, 1037, 1040,\n",
        "        918,  892,  885,  853,  533,  581,  583,  437,  324,  416,  251,\n",
        "        233,  167,   94,  113,   71,   50,   28,   27,   16,    6,    8,\n",
        "          5,    1,    3,    3,    0,    0,    1,    0,    0,    0,    0,\n",
        "          0]),\n",
        " array([ 0.  ,  0.01,  0.02,  0.03,  0.04,  0.05,  0.06,  0.07,  0.08,\n",
        "        0.09,  0.1 ,  0.11,  0.12,  0.13,  0.14,  0.15,  0.16,  0.17,\n",
        "        0.18,  0.19,  0.2 ,  0.21,  0.22,  0.23,  0.24,  0.25,  0.26,\n",
        "        0.27,  0.28,  0.29,  0.3 ,  0.31,  0.32,  0.33,  0.34,  0.35,\n",
        "        0.36,  0.37,  0.38,  0.39,  0.4 ,  0.41,  0.42,  0.43,  0.44,\n",
        "        0.45,  0.46,  0.47,  0.48,  0.49,  0.5 ,  0.51,  0.52,  0.53,\n",
        "        0.54,  0.55,  0.56,  0.57,  0.58,  0.59,  0.6 ,  0.61,  0.62,\n",
        "        0.63,  0.64,  0.65,  0.66,  0.67,  0.68,  0.69,  0.7 ,  0.71,\n",
        "        0.72,  0.73,  0.74,  0.75,  0.76,  0.77,  0.78,  0.79,  0.8 ,\n",
        "        0.81,  0.82,  0.83,  0.84,  0.85,  0.86,  0.87,  0.88,  0.89,\n",
        "        0.9 ,  0.91,  0.92,  0.93,  0.94,  0.95,  0.96,  0.97,  0.98,\n",
        "        0.99,  1.  ]),\n",
        " <a list of 100 Patch objects>)"
       ]
      },
      {
       "output_type": "display_data",
       "png": "[encoded data removed]",
       "text": [
        "<matplotlib.figure.Figure at 0x1021f7150>"
       ]
      }
     ],
     "prompt_number": 4
    },
    {
     "cell_type": "code",
     "collapsed": false,
     "input": [
      "import calc_gc\n",
      "\n",
      "gc_list = []\n",
      "for record in screed.open(filename):\n",
      "    seq = record.sequence[:10]\n",
      "    gc = calc_gc.calc_gc(seq)\n",
      "    gc_list.append(gc)"
     ],
     "language": "python",
     "metadata": {},
     "outputs": [],
     "prompt_number": 5
    },
    {
     "cell_type": "code",
     "collapsed": false,
     "input": [
      "hist(gc_list, bins=10, range=(0, 1))"
     ],
     "language": "python",
     "metadata": {},
     "outputs": [
      {
       "output_type": "pyout",
       "prompt_number": 6,
       "text": [
        "(array([   12,    82,  1581,     0,  2846, 10712,  5313,     0,  3114,  1340]),\n",
        " array([ 0. ,  0.1,  0.2,  0.3,  0.4,  0.5,  0.6,  0.7,  0.8,  0.9,  1. ]),\n",
        " <a list of 10 Patch objects>)"
       ]
      },
      {
       "output_type": "display_data",
       "png": "[encoded data removed]",
       "text": [
        "<matplotlib.figure.Figure at 0x1085d4510>"
       ]
      }
     ],
     "prompt_number": 6
    },
    {
     "cell_type": "code",
     "collapsed": false,
     "input": [],
     "language": "python",
     "metadata": {},
     "outputs": [],
     "prompt_number": 6
    }
   ],
   "metadata": {}
  }
 ]
}